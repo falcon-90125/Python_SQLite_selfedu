{
 "cells": [
  {
   "cell_type": "code",
   "execution_count": 1,
   "metadata": {},
   "outputs": [],
   "source": [
    "import sqlite3 as sq"
   ]
  },
  {
   "attachments": {},
   "cell_type": "markdown",
   "metadata": {},
   "source": [
    "# Соединение с БД"
   ]
  },
  {
   "cell_type": "code",
   "execution_count": 10,
   "metadata": {},
   "outputs": [],
   "source": [
    "#Соединение с БД\n",
    "#https://www.youtube.com/watch?v=TCdyfEvrIUg&list=PLA0M1Bcd0w8x4Inr5oYttMK6J47vxgv6J&index=2\n",
    "with sq.connect('saper.db') as con: #https://youtu.be/inHiIdZBIEc?list=PLA0M1Bcd0w8x4Inr5oYttMK6J47vxgv6J&t=17\n",
    "    cur = con.cursor()"
   ]
  },
  {
   "cell_type": "code",
   "execution_count": null,
   "metadata": {},
   "outputs": [],
   "source": [
    "#https://youtu.be/inHiIdZBIEc?list=PLA0M1Bcd0w8x4Inr5oYttMK6J47vxgv6J&t=133\n",
    "cars = [\n",
    "    ('Audi', 52642),\n",
    "    ('Mersedes', 57127),\n",
    "    ('Skoda', 9000),\n",
    "    ('Volvo', 29000),\n",
    "    ('Bentley', 350000)\n",
    "]"
   ]
  },
  {
   "cell_type": "code",
   "execution_count": null,
   "metadata": {},
   "outputs": [],
   "source": [
    "\n",
    "with sq.connect('saper.db') as con: #https://youtu.be/inHiIdZBIEc?list=PLA0M1Bcd0w8x4Inr5oYttMK6J47vxgv6J&t=17\n",
    "    cur = con.cursor()\n",
    "\n",
    "    cur.execute(\"DROP TABLE IF EXISTS users\")\n",
    "    cur.execute(\"\"\" CREATE TABLE IF NOT EXISTS users (\n",
    "        user_id INTEGER PRIMARY KEY AUTOINCREMENT,\n",
    "        name TEXT NOT NULL,\n",
    "        sex INTEGER NOT NULL DEFAULT 1,\n",
    "        old INTEGER,\n",
    "        score INTEGER\n",
    "        )\"\"\")\n",
    "#про sex INTEGER NOT NULL DEFAULT 1 https://youtu.be/fYGfBpuFu0A?list=PLA0M1Bcd0w8x4Inr5oYttMK6J47vxgv6J&t=121\n",
    "\n",
    "    cur.execute(\"\"\"INSERT INTO users (name, sex, old, score)\n",
    "    VALUES \n",
    "    ('Михаил', 1, 19, 1000),\n",
    "    ('Федор', 1, 32, 200),\n",
    "    ('Николай', 1, 22, 500),\n",
    "    ('Мария', 2, 18, 400),\n",
    "    ('Сергей', 1, 33, 2000),\n",
    "    ('Владимир', 1, 43, 100),\n",
    "    ('Елена', 2, 17, 500),\n",
    "    ('Юля', 2, 23, 700)\"\"\")"
   ]
  },
  {
   "attachments": {},
   "cell_type": "markdown",
   "metadata": {},
   "source": [
    "# Вывод результатов"
   ]
  },
  {
   "cell_type": "code",
   "execution_count": 11,
   "metadata": {},
   "outputs": [
    {
     "name": "stdout",
     "output_type": "stream",
     "text": [
      "result1:\n",
      "('Юля', 23, 700)\n",
      "('Сергей', 33, 2000)\n",
      "('Михаил', 19, 1000)\n"
     ]
    }
   ],
   "source": [
    "cur.execute('SELECT name, old, score FROM users WHERE score >= 700 ORDER BY name desc')\n",
    "\n",
    "# #Для получения результатов SELECT'а списком\n",
    "# result0 = cur.fetchall()\n",
    "# print('result0:', result0)\n",
    "    \n",
    "#Для получения результатов SELECT'а типа как таблица, такой подход существенно экономит память(если данных много), т.к. не сохраняет список\n",
    "print ('result1:')\n",
    "for result1 in cur:\n",
    "    print (result1)\n",
    "\n",
    "# result2 = cur.fetchone() #возвращает только 1ю запись\n",
    "# print('result2:', result2)\n",
    "\n",
    "# result3 = cur.fetchmany(3) #возвращает указанное кол-во записей\n",
    "# print('result3:', result3)"
   ]
  },
  {
   "attachments": {},
   "cell_type": "markdown",
   "metadata": {},
   "source": [
    "# Добавление записей в таблицу Python'ом"
   ]
  },
  {
   "cell_type": "code",
   "execution_count": null,
   "metadata": {},
   "outputs": [],
   "source": [
    "#Добавление записей в таблицу Python'ом\n",
    "#https://youtu.be/inHiIdZBIEc?list=PLA0M1Bcd0w8x4Inr5oYttMK6J47vxgv6J&t=133\n",
    "\n",
    "cur.execute(\"\"\" CREATE TABLE IF NOT EXISTS cars (\n",
    "    car_id INTEGER PRIMARY KEY AUTOINCREMENT,\n",
    "    model TEXT NOT NULL,\n",
    "    price INTEGER NOT NULL\n",
    ")\"\"\")\n",
    "\n",
    "for car in cars:\n",
    "    cur.execute(\"INSERT INTO cars VALUES(NULL, ?, ?)\", car)\n",
    "\n",
    "#Аналогичный по функционалю циклу выше метод:\n",
    "cur.executemany(\"INSERT INTO cars VALUES(NULL, ?, ?)\", cars)"
   ]
  },
  {
   "attachments": {},
   "cell_type": "markdown",
   "metadata": {},
   "source": [
    "# Добавление записей по именованым параметрам"
   ]
  },
  {
   "cell_type": "code",
   "execution_count": null,
   "metadata": {},
   "outputs": [],
   "source": [
    "#Добавление записей по именованым параметрам\n",
    "#https://youtu.be/inHiIdZBIEc?list=PLA0M1Bcd0w8x4Inr5oYttMK6J47vxgv6J&t=235\n",
    "cur.execute(\"UPDATE cars SET price = :Price WHERE model LIKE 'A%'\", {'Price': 0})"
   ]
  },
  {
   "attachments": {},
   "cell_type": "markdown",
   "metadata": {},
   "source": [
    "# Выполнение нескольких SQL-команд в одном скрипте"
   ]
  },
  {
   "cell_type": "code",
   "execution_count": null,
   "metadata": {},
   "outputs": [],
   "source": [
    "#Выполнение нескольких SQL-команд в одном скрипте. ВНИМАНИЕ! Есть ограничение на использование SQL-запросов\n",
    "#записывает данные так как они есть\n",
    "#https://youtu.be/inHiIdZBIEc?list=PLA0M1Bcd0w8x4Inr5oYttMK6J47vxgv6J&t=293\n",
    "cur.executescript(\"\"\"DELETE FROM cars WHERE model LIKE 'A%';\n",
    "    UPDATE cars SET price = price + 1000\n",
    "\"\"\")"
   ]
  },
  {
   "attachments": {},
   "cell_type": "markdown",
   "metadata": {},
   "source": [
    "# Соединение с БД через блок обработки исключений"
   ]
  },
  {
   "cell_type": "code",
   "execution_count": null,
   "metadata": {},
   "outputs": [],
   "source": [
    "#Соединение с БД через блок обработки исключений - более лучший способ!!!\n",
    "#https://youtu.be/inHiIdZBIEc?list=PLA0M1Bcd0w8x4Inr5oYttMK6J47vxgv6J&t=349\n",
    "con = None\n",
    "try:\n",
    "    con = sq.connect('saper.db')\n",
    "    cur = con.cursor()\n",
    "\n",
    "    cur.executescript(\"\"\" CREATE TABLE IF NOT EXISTS cars (\n",
    "        car_id INTEGER PRIMARY KEY AUTOINCREMENT,\n",
    "        model TEXT NOT NULL,\n",
    "        price INTEGER NOT NULL\n",
    "        );\n",
    "        BEGIN;\n",
    "        INSERT INTO cars VALUES(NULL, 'Audi', 52642);\n",
    "        INSERT INTO cars VALUES(NULL, 'Mersedes', 57127);\n",
    "        INSERT INTO cars VALUES(NULL, 'Skoda', 9000);\n",
    "        INSERT INTO cars VALUES(NULL, 'Volvo', 29000);\n",
    "        INSERT INTO cars VALUES(NULL, 'Bentley', 350000);\n",
    "        UPDATE cars SET price = price + 1000\n",
    "    \"\"\")\n",
    "\n",
    "    con.commit()\n",
    "\n",
    "except sq.Error as e:\n",
    "    if con: con.rollback()\n",
    "    print(\"Ошибка выполнения запроса\")\n",
    "finally:\n",
    "    if con: con.close()"
   ]
  },
  {
   "attachments": {},
   "cell_type": "markdown",
   "metadata": {},
   "source": [
    "# Примерение свойства последней записи ID по .lastrowid"
   ]
  },
  {
   "cell_type": "code",
   "execution_count": null,
   "metadata": {},
   "outputs": [],
   "source": [
    "#Примерение свойства последней записи ID по .lastrowid\n",
    "#https://youtu.be/inHiIdZBIEc?list=PLA0M1Bcd0w8x4Inr5oYttMK6J47vxgv6J&t=588\n",
    "with sq.connect('saper.db') as con: #https://youtu.be/inHiIdZBIEc?list=PLA0M1Bcd0w8x4Inr5oYttMK6J47vxgv6J&t=17\n",
    "    con.row_factory = sq.Row # Для вывод данных в виде словаря: https://youtu.be/Ic6etzJZF-M?list=PLA0M1Bcd0w8x4Inr5oYttMK6J47vxgv6J&t=148\n",
    "    cur = con.cursor()\n",
    "\n",
    "    cur.executescript(\"\"\" CREATE TABLE IF NOT EXISTS cars (\n",
    "        car_id INTEGER PRIMARY KEY AUTOINCREMENT,\n",
    "        model TEXT NOT NULL,\n",
    "        price INTEGER NOT NULL\n",
    "        );\n",
    "        CREATE TABLE IF NOT EXISTS cust (name TEXT, tr_in INTEGER, buy INTEGER);\n",
    "    \"\"\")\n",
    "\n",
    "    cur.execute(\"INSERT INTO cars VALUES(NULL, 'Запорожец', 1000)\")\n",
    "    last_row_id = cur.lastrowid\n",
    "    buy_car_id = 2\n",
    "    cur.execute(\"INSERT INTO cust VALUES('Федор', ?, ?)\", (last_row_id, buy_car_id))\n",
    "\n",
    "    cur.execute('SELECT model, price FROM cars')\n",
    "    #Для получения результатов SELECT'а списком\n",
    "    rows = cur.fetchall()\n",
    "    print(rows)\n",
    "\n",
    "    #Для получения результатов SELECT'а - только первая запись\n",
    "    rows = cur.fetchone()\n",
    "    print(rows)\n",
    "\n",
    "    #Для получения результатов SELECT'а - только кол-во записей указанного в скобках\n",
    "    rows = cur.fetchmany(4)\n",
    "    print(rows)\n",
    "\n",
    "    #Перебор циклом - ПРЕИМУЩЕСТВО - экономия памяти\n",
    "    https://youtu.be/Ic6etzJZF-M?list=PLA0M1Bcd0w8x4Inr5oYttMK6J47vxgv6J&t=108\n",
    "    for result in cur:\n",
    "        # print(result)\n",
    "        # Для вывод данных в виде словаря: https://youtu.be/Ic6etzJZF-M?list=PLA0M1Bcd0w8x4Inr5oYttMK6J47vxgv6J&t=148\n",
    "        print(result['model'], result['price'])"
   ]
  },
  {
   "attachments": {},
   "cell_type": "markdown",
   "metadata": {},
   "source": [
    "# Хранение изображений в БД"
   ]
  },
  {
   "attachments": {},
   "cell_type": "markdown",
   "metadata": {},
   "source": [
    "## Функция записи изображений в БД"
   ]
  },
  {
   "cell_type": "code",
   "execution_count": null,
   "metadata": {},
   "outputs": [],
   "source": [
    " #Хранение изображений в БД:\n",
    "    #https://youtu.be/Ic6etzJZF-M?list=PLA0M1Bcd0w8x4Inr5oYttMK6J47vxgv6J&t=226\n",
    "\n",
    "with sq.connect('saper.db') as con: #https://youtu.be/inHiIdZBIEc?list=PLA0M1Bcd0w8x4Inr5oYttMK6J47vxgv6J&t=17\n",
    "    con.row_factory = sq.Row # Для вывод данных в виде словаря: https://youtu.be/Ic6etzJZF-M?list=PLA0M1Bcd0w8x4Inr5oYttMK6J47vxgv6J&t=148\n",
    "    cur = con.cursor()\n",
    "    cur.executescript('''CREATE TABLE IF NOT EXISTS users2 (\n",
    "        name TEXT,\n",
    "        ava BLOB,\n",
    "        score INTEGER)\n",
    "    ''')\n",
    "\n",
    "    #Функция записи изображений в БД:\n",
    "    def readAva(n):\n",
    "        try:\n",
    "            with open(f'E:\\VSCode\\Python_SQLite/{n}.png', 'rb') as f:\n",
    "                return f.read()\n",
    "        except IOError as e:\n",
    "            print(e)\n",
    "            return False"
   ]
  },
  {
   "attachments": {},
   "cell_type": "markdown",
   "metadata": {},
   "source": [
    "## Запись изображения в БД"
   ]
  },
  {
   "cell_type": "code",
   "execution_count": null,
   "metadata": {},
   "outputs": [],
   "source": [
    "#Запись изображения в БД:\n",
    "img = readAva(1)\n",
    "if img:\n",
    "    binary = sq.Binary(img)\n",
    "    cur.execute(\"INSERT INTO users2 VALUES ('Exp010203', ?, 100)\", (binary,))"
   ]
  },
  {
   "attachments": {},
   "cell_type": "markdown",
   "metadata": {},
   "source": [
    "## Запись изображения в БД"
   ]
  },
  {
   "cell_type": "code",
   "execution_count": null,
   "metadata": {},
   "outputs": [],
   "source": [
    "#Чтение изображения из БД:\n",
    "#Функция записи данных в виде графического файла\n",
    "def writeAva(name, data):\n",
    "    try:\n",
    "        with open(name, 'wb') as f:\n",
    "            f.write(data)\n",
    "    except IOError as e:\n",
    "        print(e)\n",
    "        return False\n",
    "\n",
    "    return True\n",
    "\n",
    "#Чтение изображения из БД:\n",
    "cur.execute(\"SELECT ava FROM users2 LIMIT 1\")\n",
    "img = cur.fetchone()['ava'] # обращаемся по имени, т.к. есть con.row_factory = sq.Row в функции with sq.connect, если её не было, то обращаемся по индексу (1/2/3...)\n",
    "\n",
    "writeAva('out.png', img)"
   ]
  },
  {
   "attachments": {},
   "cell_type": "markdown",
   "metadata": {},
   "source": [
    "# Получить список SQL-запросов к БД - метод iterdamp()"
   ]
  },
  {
   "cell_type": "code",
   "execution_count": null,
   "metadata": {},
   "outputs": [],
   "source": [
    "# Получить список SQL-запросов к БД - метод iterdamp()\n",
    "#https://www.youtube.com/watch?v=Ic6etzJZF-M&list=PLA0M1Bcd0w8x4Inr5oYttMK6J47vxgv6J&index=11\n",
    "# Простой просмотр запросов\n",
    "for sql in con.iterdump():\n",
    "    print(sql)"
   ]
  },
  {
   "attachments": {},
   "cell_type": "markdown",
   "metadata": {},
   "source": [
    "# Запись SQL-запросов в файл sql_dump.sql"
   ]
  },
  {
   "cell_type": "code",
   "execution_count": null,
   "metadata": {},
   "outputs": [],
   "source": [
    "#Запись SQL-запросов в файл sql_dump.sql\n",
    "with open('sql_dump.sql', 'w') as f:\n",
    "    for sql in con.iterdump():\n",
    "        f.write(sql)"
   ]
  },
  {
   "attachments": {},
   "cell_type": "markdown",
   "metadata": {},
   "source": [
    "# Создание/восстановление БД с помощью сохранённых SQL-запросов в файл sql_dump.sql"
   ]
  },
  {
   "cell_type": "code",
   "execution_count": null,
   "metadata": {},
   "outputs": [],
   "source": [
    "#Создание/восстановление БД с помощью сохранённых SQL-запросов в файл sql_dump.sql\n",
    "with open('sql_dump.sql', 'r') as f:\n",
    "    sql in f.read()\n",
    "    cur.executescript(sql)"
   ]
  },
  {
   "attachments": {},
   "cell_type": "markdown",
   "metadata": {},
   "source": [
    "# Создание БД непосредственно в памяти ПК не создавая её физически в БД"
   ]
  },
  {
   "cell_type": "code",
   "execution_count": null,
   "metadata": {},
   "outputs": [],
   "source": [
    "#Создание БД непосредственно в памяти ПК не создавая её физически в БД\n",
    "#https://youtu.be/Ic6etzJZF-M?list=PLA0M1Bcd0w8x4Inr5oYttMK6J47vxgv6J&t=641\n",
    "data = [('car', 'машина'), ('house', 'дом'), ('thee', 'дерево'), ('color', 'цвет')]\n",
    "\n",
    "con = sq.connect(':memory:')\n",
    "with con:\n",
    "    cur = con.cursor()\n",
    "    cur.execute('''CREATE TABLE IF NOT EXISTS dict(\n",
    "        eng TEXT, rus TEXT\n",
    "    )''')\n",
    "\n",
    "    cur.executemany(\"INSERT INTO dict VALUES(?,?)\", data)\n",
    "\n",
    "    cur.execute(\"SELECT rus FROM dict WHERE eng LIKE 'c%'\")\n",
    "    print(cur.fetchall())"
   ]
  }
 ],
 "metadata": {
  "kernelspec": {
   "display_name": "env",
   "language": "python",
   "name": "python3"
  },
  "language_info": {
   "codemirror_mode": {
    "name": "ipython",
    "version": 3
   },
   "file_extension": ".py",
   "mimetype": "text/x-python",
   "name": "python",
   "nbconvert_exporter": "python",
   "pygments_lexer": "ipython3",
   "version": "3.10.4"
  },
  "orig_nbformat": 4,
  "vscode": {
   "interpreter": {
    "hash": "57ebae037a910bd9ee5766e9c43469cae1d593f476cde50e42f9061ce1469bd2"
   }
  }
 },
 "nbformat": 4,
 "nbformat_minor": 2
}
